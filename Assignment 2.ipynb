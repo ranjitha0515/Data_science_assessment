{
 "cells": [
  {
   "cell_type": "code",
   "execution_count": 1,
   "id": "fcd92279-4bfb-4d02-a0ee-20dff4aa66ce",
   "metadata": {},
   "outputs": [
    {
     "name": "stdout",
     "output_type": "stream",
     "text": [
      "Defaulting to user installation because normal site-packages is not writeable\n",
      "Requirement already satisfied: pandas in c:\\programdata\\anaconda3\\lib\\site-packages (2.2.2)\n",
      "Requirement already satisfied: numpy>=1.26.0 in c:\\programdata\\anaconda3\\lib\\site-packages (from pandas) (1.26.4)\n",
      "Requirement already satisfied: python-dateutil>=2.8.2 in c:\\programdata\\anaconda3\\lib\\site-packages (from pandas) (2.9.0.post0)\n",
      "Requirement already satisfied: pytz>=2020.1 in c:\\programdata\\anaconda3\\lib\\site-packages (from pandas) (2024.1)\n",
      "Requirement already satisfied: tzdata>=2022.7 in c:\\programdata\\anaconda3\\lib\\site-packages (from pandas) (2023.3)\n",
      "Requirement already satisfied: six>=1.5 in c:\\programdata\\anaconda3\\lib\\site-packages (from python-dateutil>=2.8.2->pandas) (1.16.0)\n",
      "Note: you may need to restart the kernel to use updated packages.\n"
     ]
    }
   ],
   "source": [
    "pip install pandas"
   ]
  },
  {
   "cell_type": "code",
   "execution_count": 2,
   "id": "4c81323c-d0e1-4c47-ae10-4bb97d75be36",
   "metadata": {},
   "outputs": [
    {
     "name": "stdout",
     "output_type": "stream",
     "text": [
      "Defaulting to user installation because normal site-packages is not writeable\n",
      "Requirement already satisfied: numpy in c:\\programdata\\anaconda3\\lib\\site-packages (1.26.4)\n",
      "Note: you may need to restart the kernel to use updated packages.\n"
     ]
    }
   ],
   "source": [
    "pip install numpy"
   ]
  },
  {
   "cell_type": "code",
   "execution_count": 3,
   "id": "7bd8e906-5ba7-4414-bbf4-692f16b9ca87",
   "metadata": {},
   "outputs": [
    {
     "name": "stdout",
     "output_type": "stream",
     "text": [
      "Defaulting to user installation because normal site-packages is not writeable\n",
      "Collecting statistics\n",
      "  Downloading statistics-1.0.3.5.tar.gz (8.3 kB)\n",
      "  Preparing metadata (setup.py): started\n",
      "  Preparing metadata (setup.py): finished with status 'done'\n",
      "Requirement already satisfied: docutils>=0.3 in c:\\programdata\\anaconda3\\lib\\site-packages (from statistics) (0.18.1)\n",
      "Building wheels for collected packages: statistics\n",
      "  Building wheel for statistics (setup.py): started\n",
      "  Building wheel for statistics (setup.py): finished with status 'done'\n",
      "  Created wheel for statistics: filename=statistics-1.0.3.5-py3-none-any.whl size=7450 sha256=2ab1ea8b8843f8ae73f480067d93978410a16c985766635c825d7e71b68cd3cb\n",
      "  Stored in directory: c:\\users\\lenovo\\appdata\\local\\pip\\cache\\wheels\\10\\9c\\1a\\0c68a89e4533a18e9f9902018b94ffc2481139818b67cbb05a\n",
      "Successfully built statistics\n",
      "Installing collected packages: statistics\n",
      "Successfully installed statistics-1.0.3.5\n",
      "Note: you may need to restart the kernel to use updated packages.\n"
     ]
    }
   ],
   "source": [
    "pip install statistics"
   ]
  },
  {
   "cell_type": "code",
   "execution_count": 4,
   "id": "7d62cf5b-e574-4021-98ca-026838179245",
   "metadata": {},
   "outputs": [],
   "source": [
    "import pandas as pd\n",
    "import numpy as np\n",
    "import statistics"
   ]
  },
  {
   "cell_type": "code",
   "execution_count": 36,
   "id": "68982967-41d0-4357-9540-1735333c2994",
   "metadata": {},
   "outputs": [],
   "source": [
    "#loading data set\n",
    "df = pd.read_csv(\"Indian_Cricket_Team_Dataset.csv\")"
   ]
  },
  {
   "cell_type": "code",
   "execution_count": 37,
   "id": "fbfe1399-4427-4a3a-90ca-d3a0c47e415a",
   "metadata": {},
   "outputs": [
    {
     "name": "stdout",
     "output_type": "stream",
     "text": [
      "[26 23 32 34 30 27 32 24 26 29 22 26 30 30 27 24 23 27 27 22 25 24 21 27\n",
      " 31 33 25 21 35 31 24 20 31 29 25 32 31 28 20 30 30 34 29 35 31 31 35 34\n",
      " 33 33 34 33 22 31 26 23 35 28 22 24 22 26 24 28 26 21 23 28 31 33 21 29\n",
      " 28 29 24 21 23 31 34 31 26 31 32 27 34 22 33 20 23 21 27 23 21 33 25 25\n",
      " 29 23 25 32 34 21 29 31 21 29 33 23 33 34 35 34 27 33 26 31 28 33 27 24\n",
      " 35 32 21 34 24 27 29 28 31 31 31 32 28 32 34 32 20 28 26 28 27 20 31 27\n",
      " 27 34 30 22 20 27 22 22 20 30 24 29 26 29 28 31 26 28 27 31 21 20 35 26\n",
      " 26 33 27 24 22 31 27 25 30 22 20 22 24 34 33 22 20 24 29 26 34 33 26 30\n",
      " 28 34 34 29 29 31 32 22 34 35 26 20 23 32 35 23 33 24 26 26 32 34 30 32\n",
      " 23 32 35 26 30 22 25 31 21 29 32 33 28 24 25 31 31 31 31 23 33 33 30 35\n",
      " 29 26 31 28 26 33 20 20 28 30 33 28 23 32 28 22 26 25 27 30 28 33 24 20\n",
      " 22 29 31 27 34 30 25 35 35 27 28 23 20 33 20 29 23 31 33 26 21 22 20 24\n",
      " 20 27 20 30 20 21 21 31 25 26 24 35 20 20 22 33 21 24 31 29 35 25 35 26\n",
      " 23 26 30 27 30 20 34 25 27 24 23 21 25 25 30 34 35 35 20 28 31 30 25 35\n",
      " 32 22 23 31 30 23 22 29 22 34 22 23 35 26 23 28 20 27 35 26 21 27 20 30\n",
      " 31 28 28 21 26 34 33 29 22 26 31 35 29 35 28 23 31 20 21 20 35 33 31 24\n",
      " 24 35 30 26 28 28 22 22 35 35 22 23 27 25 27 20 27 23 30 20 27 23 25 27\n",
      " 23 33 22 35 33 28 22 28 32 21 35 33 21 21 25 22 35 32 28 23 20 23 20 33\n",
      " 24 35 23 27 35 27 26 22 20 35 20 35 31 30 22 25 26 25 33 33 25 25 32 22\n",
      " 25 27 30 30 21 24 33 20 31 34 35 20 24 31 32 35 22 23 22 35 20 35 20 31\n",
      " 31 33 32 33 24 25 22 31 28 24 27 32 20 33 24 34 22 31 20 23 34 32 24 35\n",
      " 26 20 35 22 35 21 28 29 34 25 29 22 27 33 27 21 35 34 25 26 21 34 30 29\n",
      " 21 29 20 27 20 28 30 25 35 26 32 29 26 29 22 21 28 27 32 31 29 26 28 23\n",
      " 32 23 20 27 35 33 35 33 31 22 26 34 31 21 21 35 26 34 25 22 28 29 34 33\n",
      " 32 25 29 29 25 20 23 29 25 34 25 30 31 24 20 27 24 31 31 31 24 26 23 25\n",
      " 32 35 23 33 34 22 26 27 23 35 32 21 31 29 33 22 20 27 34 22 31 29 26 29\n",
      " 24 29 24 33 26 34 28 31 24 20 29 29 20 34 21 35 33 25 35 28 27 32 24 20\n",
      " 35 32 26 35 34 24 25 32 26 22 31 29 35 22 24 25 28 32 33 31 24 34 20 33\n",
      " 33 33 23 24 31 35 29 29 35 24 26 23 20 33 33 24 26 29 29 25 24 23 21 23\n",
      " 34 29 29 22 29 35 20 27 24 32 23 35 27 35 26 21 20 31 35 35 30 23 27 31\n",
      " 21 22 31 20 20 32 22 30 24 31 22 20 20 27 29 30 31 32 32 31 34 33 21 32\n",
      " 22 21 22 26 20 29 27 32 29 29 29 33 21 22 28 26 23 29 24 21 32 30 32 27\n",
      " 23 28 24 32 28 23 29 24 28 27 35 22 20 22 35 23 21 20 26 35 27 26 33 35\n",
      " 24 31 20 26 32 26 28 22 28 33 20 20 33 23 35 28 25 32 30 22 20 23 31 32\n",
      " 28 22 31 28 26 31 33 34 35 23 22 29 34 35 24 24 22 31 28 23 30 24 23 24\n",
      " 26 35 28 26 32 24 29 29 26 33 34 29 24 22 26 32 30 30 21 34 31 28 29 29\n",
      " 31 20 32 25 26 33 32 27 29 28 21 30 29 21 24 32 24 25 22 27 35 32 20 25\n",
      " 23 20 34 26 28 32 23 23 25 31 34 22 32 31 25 26 30 29 29 22 26 33 22 32\n",
      " 32 21 31 33 29 23 31 27 32 34 28 26 20 22 32 31 33 28 34 31 20 28 27 20\n",
      " 25 24 25 29 31 32 35 32 32 34 24 35 25 24 30 31 24 23 22 22 23 28 21 34\n",
      " 28 20 33 34 34 20 24 25 25 22 35 26 28 30 31 29 35 35 27 25 31 27 31 24\n",
      " 27 29 31 23 29 27 29 31 21 31 31 24 28 23 35 30]\n"
     ]
    }
   ],
   "source": [
    "age_array = df['Age'].to_numpy()\n",
    "\n",
    "print(age_array)"
   ]
  },
  {
   "cell_type": "code",
   "execution_count": 40,
   "id": "a1bb24dd-1d11-4104-b667-446c341106a2",
   "metadata": {},
   "outputs": [
    {
     "name": "stdout",
     "output_type": "stream",
     "text": [
      "The average age of the players is: 27.57 years\n"
     ]
    }
   ],
   "source": [
    "# Calculate the average age\n",
    "average_age = df['Age'].mean()\n",
    "# Print the average age\n",
    "print(f\"The average age of the players is: {average_age:.2f} years\")"
   ]
  },
  {
   "cell_type": "code",
   "execution_count": 41,
   "id": "66177e8a-6269-41b9-812d-d2dd87511627",
   "metadata": {},
   "outputs": [
    {
     "name": "stdout",
     "output_type": "stream",
     "text": [
      "The oldest player is 35 years old.\n",
      "The youngest player is 20 years old.\n"
     ]
    }
   ],
   "source": [
    "# Find the oldest and youngest player ages\n",
    "oldest_age = df['Age'].max()\n",
    "youngest_age = df['Age'].min()\n",
    "\n",
    "# Print the results\n",
    "print(f\"The oldest player is {oldest_age} years old.\")\n",
    "print(f\"The youngest player is {youngest_age} years old.\")"
   ]
  },
  {
   "cell_type": "code",
   "execution_count": 42,
   "id": "7cff2b76-ac3e-4c2a-a518-a65f5bbe4fcf",
   "metadata": {},
   "outputs": [
    {
     "name": "stdout",
     "output_type": "stream",
     "text": [
      "The total number of players above 30 years old is: 336\n"
     ]
    }
   ],
   "source": [
    "# Count the number of players above 30 years old\n",
    "players_above_30 = df[df['Age'] > 30].shape[0]\n",
    "\n",
    "# Print the result\n",
    "print(f\"The total number of players above 30 years old is: {players_above_30}\")"
   ]
  },
  {
   "cell_type": "code",
   "execution_count": 43,
   "id": "8ec15261-0323-4d9f-8f8c-d4dc0c322b18",
   "metadata": {},
   "outputs": [
    {
     "name": "stdout",
     "output_type": "stream",
     "text": [
      "The median batting average is: 40.13\n"
     ]
    }
   ],
   "source": [
    "# Calculate the median batting average\n",
    "median_batting_avg = df['Batting Average'].median()\n",
    "\n",
    "# Print the result\n",
    "print(f\"The median batting average is: {median_batting_avg:.2f}\")"
   ]
  },
  {
   "cell_type": "code",
   "execution_count": 44,
   "id": "9b408491-4e22-4063-9274-56d5aec4d364",
   "metadata": {},
   "outputs": [
    {
     "name": "stdout",
     "output_type": "stream",
     "text": [
      "The standard deviation of strike rates is: 29.12\n"
     ]
    }
   ],
   "source": [
    "# Calculate the standard deviation of strike rates\n",
    "strike_rate_std = df['Strike Rate'].std()\n",
    "\n",
    "# Print the result\n",
    "print(f\"The standard deviation of strike rates is: {strike_rate_std:.2f}\")"
   ]
  },
  {
   "cell_type": "code",
   "execution_count": 45,
   "id": "9a511191-c484-4545-b527-943e5dfa172b",
   "metadata": {},
   "outputs": [
    {
     "name": "stdout",
     "output_type": "stream",
     "text": [
      "The 90th percentile of batting average is: 55.32\n"
     ]
    }
   ],
   "source": [
    "# Calculate the 90th percentile of batting average\n",
    "percentile_90 = df['Batting Average'].quantile(0.90)\n",
    "\n",
    "# Print the result\n",
    "print(f\"The 90th percentile of batting average is: {percentile_90:.2f}\")"
   ]
  },
  {
   "cell_type": "code",
   "execution_count": 46,
   "id": "590f7e13-32ec-44aa-810e-21bc72771474",
   "metadata": {},
   "outputs": [
    {
     "name": "stdout",
     "output_type": "stream",
     "text": [
      "The number of players with a strike rate above 150 is: 513\n"
     ]
    }
   ],
   "source": [
    "# Count the number of players with strike rate above 150\n",
    "players_above_150_sr = df[df['Strike Rate'] > 150].shape[0]\n",
    "\n",
    "# Print the result\n",
    "print(f\"The number of players with a strike rate above 150 is: {players_above_150_sr}\")"
   ]
  },
  {
   "cell_type": "code",
   "execution_count": 47,
   "id": "029a18fa-4f8c-4008-86f1-3375118c5e3d",
   "metadata": {},
   "outputs": [
    {
     "name": "stdout",
     "output_type": "stream",
     "text": [
      "4x5 Matrix of the first 20 batting averages:\n",
      "[[27.7  24.61 36.87 51.81 49.8 ]\n",
      " [22.2  38.21 40.9  45.78 46.01]\n",
      " [34.59 42.43 39.24 55.4  41.21]\n",
      " [37.64 36.18 42.9  52.16 41.54]]\n"
     ]
    }
   ],
   "source": [
    "# Extract the first 20 batting averages\n",
    "first_20_batting_avgs = df['Batting Average'].head(20).values\n",
    "\n",
    "# Reshape the first 20 batting averages into a 4x5 matrix\n",
    "batting_avg_matrix = first_20_batting_avgs.reshape(4, 5)\n",
    "\n",
    "# Print the reshaped matrix\n",
    "print(\"4x5 Matrix of the first 20 batting averages:\")\n",
    "print(batting_avg_matrix)"
   ]
  },
  {
   "cell_type": "code",
   "execution_count": 48,
   "id": "55d093f0-eccc-4a90-9cf1-f524fd972d9f",
   "metadata": {},
   "outputs": [
    {
     "name": "stdout",
     "output_type": "stream",
     "text": [
      "4x5 Matrix of the first 20 batting averages:\n",
      "[[27.7  24.61 36.87 51.81 49.8 ]\n",
      " [22.2  38.21 40.9  45.78 46.01]\n",
      " [34.59 42.43 39.24 55.4  41.21]\n",
      " [37.64 36.18 42.9  52.16 41.54]]\n",
      "\n",
      "Row-wise sums of the matrix:\n",
      "[190.79 193.1  212.87 210.42]\n"
     ]
    }
   ],
   "source": [
    "# Extract the first 20 batting averages\n",
    "first_20_batting_avgs = df['Batting Average'].head(20).values\n",
    "\n",
    "# Reshape the first 20 batting averages into a 4x5 matrix\n",
    "batting_avg_matrix = first_20_batting_avgs.reshape(4, 5)\n",
    "\n",
    "# Compute the row-wise sum of the reshaped matrix\n",
    "row_sums = np.sum(batting_avg_matrix, axis=1)\n",
    "\n",
    "# Print the reshaped matrix and the row-wise sums\n",
    "print(\"4x5 Matrix of the first 20 batting averages:\")\n",
    "print(batting_avg_matrix)\n",
    "print(\"\\nRow-wise sums of the matrix:\")\n",
    "print(row_sums)"
   ]
  },
  {
   "cell_type": "code",
   "execution_count": 49,
   "id": "62926e8c-f7a6-4798-861d-e7f7671a2c9b",
   "metadata": {},
   "outputs": [
    {
     "name": "stdout",
     "output_type": "stream",
     "text": [
      "4x5 Matrix of the first 20 batting averages:\n",
      "[[27.7  24.61 36.87 51.81 49.8 ]\n",
      " [22.2  38.21 40.9  45.78 46.01]\n",
      " [34.59 42.43 39.24 55.4  41.21]\n",
      " [37.64 36.18 42.9  52.16 41.54]]\n",
      "\n",
      "Column-wise means of the matrix:\n",
      "[30.5325 35.3575 39.9775 51.2875 44.64  ]\n"
     ]
    }
   ],
   "source": [
    "# Extract the first 20 batting averages\n",
    "first_20_batting_avgs = df['Batting Average'].head(20).values\n",
    "\n",
    "# Reshape the first 20 batting averages into a 4x5 matrix\n",
    "batting_avg_matrix = first_20_batting_avgs.reshape(4, 5)\n",
    "\n",
    "# Compute the column-wise mean of the reshaped matrix\n",
    "column_means = np.mean(batting_avg_matrix, axis=0)\n",
    "\n",
    "# Print the reshaped matrix and the column-wise means\n",
    "print(\"4x5 Matrix of the first 20 batting averages:\")\n",
    "print(batting_avg_matrix)\n",
    "print(\"\\nColumn-wise means of the matrix:\")\n",
    "print(column_means)"
   ]
  },
  {
   "cell_type": "code",
   "execution_count": 50,
   "id": "01c6a848-3400-47ca-8b68-3e0e9bf62772",
   "metadata": {},
   "outputs": [
    {
     "name": "stdout",
     "output_type": "stream",
     "text": [
      "Original 4x5 Matrix:\n",
      "[[27.7  24.61 36.87 51.81 49.8 ]\n",
      " [22.2  38.21 40.9  45.78 46.01]\n",
      " [34.59 42.43 39.24 55.4  41.21]\n",
      " [37.64 36.18 42.9  52.16 41.54]]\n",
      "\n",
      "Transposed 5x4 Matrix:\n",
      "[[27.7  22.2  34.59 37.64]\n",
      " [24.61 38.21 42.43 36.18]\n",
      " [36.87 40.9  39.24 42.9 ]\n",
      " [51.81 45.78 55.4  52.16]\n",
      " [49.8  46.01 41.21 41.54]]\n"
     ]
    }
   ],
   "source": [
    "# Extract the first 20 batting averages\n",
    "first_20_batting_avgs = df['Batting Average'].head(20).values\n",
    "\n",
    "# Reshape the first 20 batting averages into a 4x5 matrix\n",
    "batting_avg_matrix = first_20_batting_avgs.reshape(4, 5)\n",
    "\n",
    "# Transpose the reshaped matrix\n",
    "transposed_matrix = batting_avg_matrix.T\n",
    "\n",
    "# Print the original and transposed matrices\n",
    "print(\"Original 4x5 Matrix:\")\n",
    "print(batting_avg_matrix)\n",
    "print(\"\\nTransposed 5x4 Matrix:\")\n",
    "print(transposed_matrix)"
   ]
  },
  {
   "cell_type": "code",
   "execution_count": 51,
   "id": "b8642f39-5820-4525-8c30-021a4ffe647f",
   "metadata": {},
   "outputs": [
    {
     "name": "stdout",
     "output_type": "stream",
     "text": [
      "The variance of batting average is: 131.67\n"
     ]
    }
   ],
   "source": [
    "# Calculate the variance of batting average\n",
    "variance_batting_avg = df['Batting Average'].var()\n",
    "\n",
    "# Print the result\n",
    "print(f\"The variance of batting average is: {variance_batting_avg:.2f}\")"
   ]
  },
  {
   "cell_type": "code",
   "execution_count": 52,
   "id": "cd50d54d-5eb0-49a8-b0a4-6618e353caa4",
   "metadata": {},
   "outputs": [
    {
     "name": "stdout",
     "output_type": "stream",
     "text": [
      "Stacked array of Age and Matches Played:\n",
      "[[ 26 456]\n",
      " [ 23 154]\n",
      " [ 32 210]\n",
      " ...\n",
      " [ 23 126]\n",
      " [ 35  16]\n",
      " [ 30 146]]\n"
     ]
    }
   ],
   "source": [
    "# Extract the 'Age' and 'Matches Played' columns\n",
    "age = df['Age'].values\n",
    "matches_played = df['Matches Played'].values\n",
    "\n",
    "# Stack the two columns horizontally\n",
    "stacked_array = np.column_stack((age, matches_played))\n",
    "\n",
    "# Print the stacked array\n",
    "print(\"Stacked array of Age and Matches Played:\")\n",
    "print(stacked_array)"
   ]
  },
  {
   "cell_type": "code",
   "execution_count": 53,
   "id": "8b7d7bd6-ffa2-4be0-b739-61462fe8d726",
   "metadata": {},
   "outputs": [
    {
     "name": "stdout",
     "output_type": "stream",
     "text": [
      "Part 1:\n",
      "[27.7  24.61 36.87 51.81 49.8  22.2  38.21 40.9  45.78 46.01 34.59 42.43\n",
      " 39.24 55.4  41.21 37.64 36.18 42.9  52.16 41.54 46.47 49.51 40.81 37.07\n",
      " 55.07 36.7  38.48 59.61 20.01 27.42 35.36 57.3  22.8  20.38 22.11 23.54\n",
      " 21.5  39.19 43.23 30.87 35.93 23.67 33.45 40.9  49.29 20.13 38.69 31.88\n",
      " 54.11 48.62 43.56 31.09 56.41 21.8  24.38 35.67 24.98 58.26 51.92 30.36\n",
      " 43.54 59.29 55.37 44.03 56.15 59.57 49.73 22.6  36.06 53.51 29.22 53.23\n",
      " 24.81 21.88 35.36 21.47 58.29 53.05 52.03 45.19 28.65 40.73 43.89 41.\n",
      " 30.41 40.61 39.65 59.85 55.9  38.54 44.92 49.91 21.39 55.8  54.41 38.3\n",
      " 35.65 30.92 39.07 21.78 54.09 21.42 33.16 57.26 49.41 31.26 30.11 20.2\n",
      " 47.83 21.95 41.3  58.48 24.38 55.78 59.66 22.46 55.32 40.64 56.26 42.85\n",
      " 46.48 41.75 54.58 49.36 40.85 54.73 29.81 26.29 26.42 33.36 29.55 57.2\n",
      " 24.23 47.96 27.57 55.27 58.45 38.62 55.16 20.21 52.8  29.15 56.35 20.04\n",
      " 42.25 50.27 30.35 27.73 23.36 33.06 42.39 24.63 35.07 20.36 52.75 25.14\n",
      " 31.33 20.74 37.29 53.6  35.69 27.18 50.15 51.55 26.95 50.83 57.89 26.66\n",
      " 50.84 48.34 38.94 22.32 22.99 54.1  59.61 47.04 37.84 45.9  43.78 35.34\n",
      " 22.63 52.86 34.87 52.75 30.1  20.04 26.36 38.74 57.77 24.09 54.17 41.08\n",
      " 53.04 31.93 53.6  50.91 29.2  25.25 54.72 58.53]\n",
      "Part 2:\n",
      "[21.25 49.25 56.38 54.29 58.58 50.4  37.69 32.48 32.83 48.98 49.83 28.01\n",
      " 54.72 48.6  42.51 38.86 41.73 26.37 28.15 23.65 26.15 38.15 41.21 20.71\n",
      " 51.87 31.77 56.47 58.7  27.42 38.48 20.05 43.93 44.29 29.9  42.34 29.02\n",
      " 26.43 46.06 33.04 43.61 37.33 59.37 25.98 38.58 47.22 35.82 58.99 48.88\n",
      " 46.28 50.28 58.11 56.31 48.97 49.97 25.84 24.11 42.84 20.73 39.29 28.41\n",
      " 33.84 51.03 57.65 22.9  41.37 55.3  23.3  52.98 34.31 32.88 59.1  28.03\n",
      " 47.73 52.86 21.65 46.82 58.06 24.97 55.85 43.79 44.66 44.52 31.95 57.41\n",
      " 57.89 45.01 51.34 44.49 39.38 46.43 42.12 43.9  51.35 39.24 21.63 26.56\n",
      " 37.54 48.99 43.73 46.01 39.17 44.63 33.16 38.81 49.77 54.87 37.35 21.75\n",
      " 26.47 20.83 46.13 33.29 41.7  39.73 23.26 36.13 28.82 36.74 28.14 53.62\n",
      " 26.97 58.43 36.64 53.85 45.15 49.41 50.71 40.19 41.73 40.56 43.52 21.18\n",
      " 35.82 44.25 43.91 51.72 46.2  59.69 31.35 34.37 35.35 38.63 53.44 29.43\n",
      " 51.04 36.21 44.07 45.3  34.91 40.5  36.52 22.77 37.49 23.9  36.2  43.72\n",
      " 43.18 46.5  23.81 46.08 32.49 35.96 54.32 20.36 43.54 43.95 35.87 29.48\n",
      " 29.39 55.35 37.68 33.24 37.95 46.78 25.83 37.98 43.52 57.94 30.1  34.37\n",
      " 35.17 44.22 34.27 41.34 51.27 48.22 37.85 54.57 42.33 41.6  21.37 59.47\n",
      " 24.92 29.25 22.07 45.6  28.99 27.2  23.54 24.13]\n",
      "Part 3:\n",
      "[43.39 47.53 35.9  39.2  47.44 20.7  32.93 58.92 43.2  30.17 40.87 33.71\n",
      " 41.29 25.03 25.31 25.74 57.59 49.32 26.5  27.53 49.23 26.25 29.38 58.53\n",
      " 30.21 46.47 59.15 34.97 20.7  29.77 53.24 54.58 50.74 24.52 51.82 56.75\n",
      " 44.02 57.64 53.07 46.68 43.09 33.94 26.37 44.2  32.72 54.66 59.73 50.1\n",
      " 23.62 31.55 24.36 46.02 50.61 57.03 37.53 56.06 55.12 32.69 54.76 35.03\n",
      " 31.87 45.96 33.14 45.21 44.39 42.54 35.22 41.94 43.86 41.83 37.78 20.59\n",
      " 43.48 26.74 45.7  50.37 40.02 41.69 58.06 53.89 56.57 52.55 24.36 25.96\n",
      " 41.06 29.84 39.07 35.77 41.98 49.88 48.62 40.85 52.9  37.23 55.87 22.85\n",
      " 58.19 46.19 35.2  27.89 39.17 27.78 26.65 44.69 40.92 46.8  57.18 41.29\n",
      " 43.24 23.59 48.71 36.   59.07 52.93 40.9  24.93 54.38 51.99 27.38 31.81\n",
      " 51.74 27.41 56.71 36.98 23.48 52.63 34.94 41.06 24.49 20.1  45.52 40.61\n",
      " 43.74 51.75 45.86 26.99 34.43 56.24 50.8  42.27 30.23 32.08 49.28 54.05\n",
      " 46.86 52.38 50.67 25.99 36.96 26.12 29.41 54.77 38.92 41.41 27.14 32.49\n",
      " 29.21 28.25 45.52 30.28 45.28 22.34 25.67 30.98 43.88 47.03 37.71 37.83\n",
      " 48.98 20.63 33.64 52.75 44.13 33.49 56.22 50.9  30.6  45.81 43.83 36.05\n",
      " 34.68 33.74 44.69 37.7  53.27 46.78 22.8  45.61 30.85 43.71 47.21 29.23\n",
      " 38.27 27.61 22.09 35.14 34.52 59.82 37.85 33.34]\n",
      "Part 4:\n",
      "[43.22 23.55 58.47 45.4  50.19 26.82 36.38 36.91 52.87 20.05 32.03 59.25\n",
      " 39.   35.3  24.79 58.97 20.8  49.49 50.74 29.75 46.86 23.72 30.28 51.52\n",
      " 54.59 44.34 40.27 26.37 22.52 24.71 29.09 33.67 35.24 33.85 29.56 40.39\n",
      " 53.01 31.19 57.7  54.93 26.47 51.45 42.98 42.66 35.64 40.05 35.89 41.59\n",
      " 45.12 46.97 41.3  48.86 25.65 28.48 52.75 32.9  20.92 26.15 28.94 58.29\n",
      " 42.92 57.31 43.01 39.17 32.55 44.25 25.57 55.93 53.17 32.7  58.11 53.01\n",
      " 46.65 24.87 39.13 40.24 29.3  23.2  51.07 24.88 43.77 57.46 55.04 31.11\n",
      " 54.06 20.01 20.71 44.1  34.59 35.46 42.58 27.67 28.47 39.38 50.17 44.78\n",
      " 31.89 37.21 26.83 22.99 51.31 30.62 27.11 47.66 44.72 45.33 29.16 29.31\n",
      " 28.83 26.95 46.23 53.92 48.97 51.68 36.19 46.16 34.17 41.02 39.27 27.08\n",
      " 35.48 58.55 29.94 25.35 36.74 51.61 43.29 47.24 27.59 44.76 32.94 53.37\n",
      " 45.17 27.95 22.58 21.71 34.86 30.63 45.84 39.97 30.64 25.97 25.09 54.59\n",
      " 29.74 46.07 52.43 44.56 54.38 35.7  58.25 25.33 24.09 46.35 57.71 52.36\n",
      " 23.06 31.17 57.21 30.12 51.25 53.01 39.82 35.45 38.   29.08 55.58 38.02\n",
      " 55.3  24.23 59.53 37.73 21.91 21.52 49.85 46.36 52.09 24.21 21.42 40.34\n",
      " 35.5  38.48 59.66 58.83 57.69 51.35 34.19 36.49 41.98 53.22 22.75 36.97\n",
      " 23.3  40.59 55.96 51.3  29.11 59.04 46.69 20.42]\n",
      "Part 5:\n",
      "[30.22 30.43 22.77 58.39 39.13 55.83 32.89 25.01 38.97 24.56 39.44 56.81\n",
      " 40.83 44.66 26.27 21.75 24.43 43.94 23.8  35.04 42.   35.55 26.55 30.95\n",
      " 57.13 47.04 39.84 20.51 59.7  46.86 32.68 55.17 30.34 41.76 45.44 28.84\n",
      " 59.14 49.93 42.31 27.22 22.15 32.8  50.13 30.77 41.58 49.12 24.32 47.41\n",
      " 23.67 58.61 39.54 26.03 33.7  36.54 50.33 49.74 44.48 24.24 26.06 23.75\n",
      " 43.09 55.09 37.35 26.43 42.32 52.47 49.67 55.26 31.12 27.76 55.19 46.3\n",
      " 32.44 49.69 52.6  44.6  47.52 35.01 41.55 40.97 53.92 53.6  53.31 20.44\n",
      " 49.98 50.35 47.14 50.25 53.68 38.81 40.08 24.99 35.42 45.73 51.22 28.69\n",
      " 25.51 46.52 20.08 27.13 21.16 26.68 27.25 35.51 36.09 54.97 40.4  48.94\n",
      " 24.17 29.02 48.12 22.11 39.46 43.97 44.09 20.92 32.88 45.46 25.96 47.82\n",
      " 49.84 59.28 28.39 53.01 40.81 34.94 24.9  49.42 29.43 34.86 22.5  52.05\n",
      " 50.66 49.34 31.98 26.94 45.5  39.85 27.13 47.44 59.65 49.89 49.6  58.01\n",
      " 28.12 42.62 59.19 26.61 48.01 43.43 43.46 47.91 57.18 51.3  22.25 54.11\n",
      " 29.02 35.08 38.47 39.24 37.41 57.49 48.24 45.25 21.99 56.16 56.38 51.21\n",
      " 20.28 22.29 29.01 25.25 35.95 56.9  38.88 20.54 31.31 21.78 21.45 31.03\n",
      " 31.02 51.49 58.99 34.85 37.16 53.79 30.73 26.26 54.12 21.86 44.79 42.48\n",
      " 33.84 32.61 50.87 23.46 29.47 49.3  41.93 25.12]\n"
     ]
    }
   ],
   "source": [
    "# Extract the 'Batting Average' column as a NumPy array\n",
    "batting_avg_array = df['Batting Average'].values\n",
    "\n",
    "# Split the batting average array into 5 equal parts\n",
    "split_arrays = np.array_split(batting_avg_array, 5)\n",
    "\n",
    "# Print the split arrays\n",
    "for i, arr in enumerate(split_arrays):\n",
    "    print(f\"Part {i + 1}:\")\n",
    "    print(arr)"
   ]
  },
  {
   "cell_type": "code",
   "execution_count": null,
   "id": "141a2ae8-b117-45e9-a6f1-6b36cffd1640",
   "metadata": {},
   "outputs": [],
   "source": []
  }
 ],
 "metadata": {
  "kernelspec": {
   "display_name": "Python 3 (ipykernel)",
   "language": "python",
   "name": "python3"
  },
  "language_info": {
   "codemirror_mode": {
    "name": "ipython",
    "version": 3
   },
   "file_extension": ".py",
   "mimetype": "text/x-python",
   "name": "python",
   "nbconvert_exporter": "python",
   "pygments_lexer": "ipython3",
   "version": "3.12.7"
  }
 },
 "nbformat": 4,
 "nbformat_minor": 5
}
