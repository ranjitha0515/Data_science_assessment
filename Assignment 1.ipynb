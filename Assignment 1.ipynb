{
 "cells": [
  {
   "cell_type": "code",
   "execution_count": 1,
   "id": "a0203a87-798a-4921-9eea-d8b7caaf376a",
   "metadata": {},
   "outputs": [
    {
     "name": "stdout",
     "output_type": "stream",
     "text": [
      "Defaulting to user installation because normal site-packages is not writeable\n",
      "Requirement already satisfied: pandas in c:\\programdata\\anaconda3\\lib\\site-packages (2.2.2)\n",
      "Requirement already satisfied: numpy>=1.26.0 in c:\\programdata\\anaconda3\\lib\\site-packages (from pandas) (1.26.4)\n",
      "Requirement already satisfied: python-dateutil>=2.8.2 in c:\\programdata\\anaconda3\\lib\\site-packages (from pandas) (2.9.0.post0)\n",
      "Requirement already satisfied: pytz>=2020.1 in c:\\programdata\\anaconda3\\lib\\site-packages (from pandas) (2024.1)\n",
      "Requirement already satisfied: tzdata>=2022.7 in c:\\programdata\\anaconda3\\lib\\site-packages (from pandas) (2023.3)\n",
      "Requirement already satisfied: six>=1.5 in c:\\programdata\\anaconda3\\lib\\site-packages (from python-dateutil>=2.8.2->pandas) (1.16.0)\n",
      "Note: you may need to restart the kernel to use updated packages.\n"
     ]
    }
   ],
   "source": [
    "pip install pandas"
   ]
  },
  {
   "cell_type": "code",
   "execution_count": 2,
   "id": "4ea81153-233a-4b74-98f2-0fc4a993a3ed",
   "metadata": {},
   "outputs": [],
   "source": [
    "import pandas as pd"
   ]
  },
  {
   "cell_type": "code",
   "execution_count": 3,
   "id": "2a7e2084-5dce-4b34-b2cc-136d44ff28a3",
   "metadata": {},
   "outputs": [
    {
     "name": "stdout",
     "output_type": "stream",
     "text": [
      "     Movie Name      Genre  Release_Year  IMDb_Rating  Revenue\n",
      "0       Movie 1     Sci-Fi          2000          6.0  1680.53\n",
      "1       Movie 2  Adventure          2000          2.2   987.24\n",
      "2       Movie 3    Romance          2002          5.2  1122.13\n",
      "3       Movie 4    Romance          2001          4.5   581.84\n",
      "4       Movie 5     Action          2012          6.6  1205.51\n",
      "..          ...        ...           ...          ...      ...\n",
      "995   Movie 996     Sci-Fi          2013          8.7   456.39\n",
      "996   Movie 997  Adventure          1993          6.2  1255.27\n",
      "997   Movie 998    Fantasy          2016          8.1  1161.96\n",
      "998   Movie 999     Action          1996          8.9   941.67\n",
      "999  Movie 1000     Horror          1995          9.4  1390.70\n",
      "\n",
      "[1000 rows x 5 columns]\n"
     ]
    }
   ],
   "source": [
    "df = pd.read_excel('Movies_Dataset.xlsx')\n",
    "print(df)"
   ]
  },
  {
   "cell_type": "code",
   "execution_count": 4,
   "id": "5d4b213d-aeee-4e64-b6dc-e3991122781b",
   "metadata": {},
   "outputs": [
    {
     "name": "stdout",
     "output_type": "stream",
     "text": [
      "    Movie Name   Genre  Release_Year  IMDb_Rating  Revenue\n",
      "4      Movie 5  Action          2012          6.6  1205.51\n",
      "34    Movie 35  Action          2009          8.7   545.60\n",
      "64    Movie 65  Action          2023          7.7  1137.79\n",
      "65    Movie 66  Action          1999          3.1  1335.85\n",
      "73    Movie 74  Action          2001          4.1   350.80\n",
      "..         ...     ...           ...          ...      ...\n",
      "930  Movie 931  Action          1994          8.6  1863.66\n",
      "944  Movie 945  Action          2004          7.5  1709.81\n",
      "980  Movie 981  Action          2022          5.2    28.40\n",
      "988  Movie 989  Action          2023          4.1   231.67\n",
      "998  Movie 999  Action          1996          8.9   941.67\n",
      "\n",
      "[104 rows x 5 columns]\n"
     ]
    }
   ],
   "source": [
    "action_movies = df[df['Genre'] == 'Action']\n",
    "print(action_movies)"
   ]
  },
  {
   "cell_type": "code",
   "execution_count": 5,
   "id": "654cbc78-9c53-454c-8238-01e5d7dffa0a",
   "metadata": {},
   "outputs": [
    {
     "name": "stdout",
     "output_type": "stream",
     "text": [
      "    Movie Name     Genre  Release_Year  IMDb_Rating  Revenue\n",
      "2      Movie 3   Romance          2002          5.2  1122.13\n",
      "3      Movie 4   Romance          2001          4.5   581.84\n",
      "4      Movie 5    Action          2012          6.6  1205.51\n",
      "6      Movie 7   Mystery          2021          5.1  1683.99\n",
      "7      Movie 8    Comedy          2005          4.0  1062.13\n",
      "..         ...       ...           ...          ...      ...\n",
      "988  Movie 989    Action          2023          4.1   231.67\n",
      "989  Movie 990   Fantasy          2004          1.6  1056.58\n",
      "991  Movie 992  Thriller          2004          9.2   251.25\n",
      "995  Movie 996    Sci-Fi          2013          8.7   456.39\n",
      "997  Movie 998   Fantasy          2016          8.1  1161.96\n",
      "\n",
      "[518 rows x 5 columns]\n"
     ]
    }
   ],
   "source": [
    "df1 = df[df['Release_Year'] > 2000]\n",
    "print(df1)"
   ]
  },
  {
   "cell_type": "code",
   "execution_count": 6,
   "id": "32e56ec0-853f-43e3-9c5c-9a5bb4497ab6",
   "metadata": {},
   "outputs": [
    {
     "name": "stdout",
     "output_type": "stream",
     "text": [
      "     Movie Name      Genre  Release_Year  IMDb_Rating  Revenue\n",
      "34     Movie 35     Action          2009          8.7   545.60\n",
      "51     Movie 52    Mystery          1998          9.0  1089.93\n",
      "56     Movie 57     Comedy          1993          9.2  1586.13\n",
      "74     Movie 75  Adventure          1999          8.6  1688.49\n",
      "81     Movie 82    Mystery          1997          8.6  1238.32\n",
      "..          ...        ...           ...          ...      ...\n",
      "991   Movie 992   Thriller          2004          9.2   251.25\n",
      "992   Movie 993     Horror          1985          9.6   951.23\n",
      "995   Movie 996     Sci-Fi          2013          8.7   456.39\n",
      "998   Movie 999     Action          1996          8.9   941.67\n",
      "999  Movie 1000     Horror          1995          9.4  1390.70\n",
      "\n",
      "[148 rows x 5 columns]\n"
     ]
    }
   ],
   "source": [
    "highly_rated_movies = df[df['IMDb_Rating'] > 8.5]\n",
    "print(highly_rated_movies)"
   ]
  },
  {
   "cell_type": "code",
   "execution_count": 7,
   "id": "74306dcd-1488-4d6a-83c5-021f91b07440",
   "metadata": {},
   "outputs": [
    {
     "name": "stdout",
     "output_type": "stream",
     "text": [
      "     Movie Name      Genre\n",
      "0       Movie 1     Sci-Fi\n",
      "1       Movie 2  Adventure\n",
      "2       Movie 3    Romance\n",
      "3       Movie 4    Romance\n",
      "4       Movie 5     Action\n",
      "..          ...        ...\n",
      "995   Movie 996     Sci-Fi\n",
      "996   Movie 997  Adventure\n",
      "997   Movie 998    Fantasy\n",
      "998   Movie 999     Action\n",
      "999  Movie 1000     Horror\n",
      "\n",
      "[1000 rows x 2 columns]\n"
     ]
    }
   ],
   "source": [
    "selected_columns_df = df[['Movie Name', 'Genre']]\n",
    "print(selected_columns_df)"
   ]
  },
  {
   "cell_type": "code",
   "execution_count": 8,
   "id": "dfc967ec-d836-42d1-94d3-abd4e35c0db9",
   "metadata": {},
   "outputs": [
    {
     "name": "stdout",
     "output_type": "stream",
     "text": [
      "     Movie Name      Genre  Release_Year  IMDb_Rating  Revenue\n",
      "0       Movie 1     Sci-Fi          2000          6.0  1680.53\n",
      "1       Movie 2  Adventure          2000          2.2   987.24\n",
      "2       Movie 3    Romance          2002          5.2  1122.13\n",
      "3       Movie 4    Romance          2001          4.5   581.84\n",
      "5       Movie 6    Fantasy          1997          2.4   485.22\n",
      "..          ...        ...           ...          ...      ...\n",
      "991   Movie 992   Thriller          2004          9.2   251.25\n",
      "994   Movie 995     Sci-Fi          1997          2.0   342.98\n",
      "996   Movie 997  Adventure          1993          6.2  1255.27\n",
      "998   Movie 999     Action          1996          8.9   941.67\n",
      "999  Movie 1000     Horror          1995          9.4  1390.70\n",
      "\n",
      "[500 rows x 5 columns]\n"
     ]
    }
   ],
   "source": [
    "movies_between_1990_and_2010 = df[(df['Release_Year'] >= 1990) & (df['Release_Year'] <= 2010)]\n",
    "print(movies_between_1990_and_2010)"
   ]
  },
  {
   "cell_type": "code",
   "execution_count": 9,
   "id": "be6de29c-d94d-4120-9261-04e70bf65640",
   "metadata": {},
   "outputs": [
    {
     "name": "stdout",
     "output_type": "stream",
     "text": [
      "Genre\n",
      "Drama        113\n",
      "Comedy       110\n",
      "Fantasy      107\n",
      "Thriller     107\n",
      "Action       104\n",
      "Adventure     96\n",
      "Sci-Fi        93\n",
      "Romance       91\n",
      "Horror        90\n",
      "Mystery       89\n",
      "Name: count, dtype: int64\n"
     ]
    }
   ],
   "source": [
    "genre_counts = df['Genre'].value_counts()\n",
    "print(genre_counts)"
   ]
  },
  {
   "cell_type": "code",
   "execution_count": 10,
   "id": "6ab5d435-7e54-4178-afca-1fb32b27c2a3",
   "metadata": {},
   "outputs": [
    {
     "name": "stdout",
     "output_type": "stream",
     "text": [
      "    Movie Name    Genre  Release_Year  IMDb_Rating  Revenue\n",
      "106  Movie 107  Romance          2007         10.0  1837.45\n",
      "241  Movie 242   Comedy          2006         10.0   802.61\n",
      "472  Movie 473  Fantasy          1985         10.0   845.18\n",
      "564  Movie 565   Action          2020         10.0   943.50\n",
      "610  Movie 611  Mystery          2017         10.0  1355.06\n",
      "628  Movie 629  Mystery          1994         10.0   644.31\n"
     ]
    }
   ],
   "source": [
    "highest_rated_movie = df[df['IMDb_Rating'] == df['IMDb_Rating'].max()]\n",
    "print(highest_rated_movie)"
   ]
  },
  {
   "cell_type": "code",
   "execution_count": 11,
   "id": "d6bb5fe7-de4b-49e0-8ef2-59bb071ba9a7",
   "metadata": {},
   "outputs": [
    {
     "name": "stdout",
     "output_type": "stream",
     "text": [
      "The average IMDb rating of all movies is: 5.46\n"
     ]
    }
   ],
   "source": [
    "average_rating = df['IMDb_Rating'].mean()\n",
    "print(f\"The average IMDb rating of all movies is: {average_rating:.2f}\")"
   ]
  },
  {
   "cell_type": "code",
   "execution_count": 12,
   "id": "777ff0af-2b90-4eef-9a84-19eaad767330",
   "metadata": {},
   "outputs": [
    {
     "name": "stdout",
     "output_type": "stream",
     "text": [
      "The total box office collection of all movies is: 1049716.26\n"
     ]
    }
   ],
   "source": [
    "total_box_office_collection = df['Revenue'].sum()\n",
    "print(f\"The total box office collection of all movies is: {total_box_office_collection}\")"
   ]
  },
  {
   "cell_type": "code",
   "execution_count": 13,
   "id": "70d2c96a-3956-41e6-9b3f-74b3d342bd34",
   "metadata": {},
   "outputs": [
    {
     "name": "stdout",
     "output_type": "stream",
     "text": [
      "     Movie Name      Genre  Release_Year  IMDb_Rating  Revenue\n",
      "0       Movie 1     Sci-Fi          2000          6.0  1680.53\n",
      "1       Movie 2  Adventure          2000          2.2   987.24\n",
      "2       Movie 3    Romance          2002          5.2  1122.13\n",
      "3       Movie 4    Romance          2001          4.5   581.84\n",
      "4       Movie 5     Action          2012          6.6  1205.51\n",
      "..          ...        ...           ...          ...      ...\n",
      "993   Movie 994  Adventure          1989          7.3  1273.65\n",
      "996   Movie 997  Adventure          1993          6.2  1255.27\n",
      "997   Movie 998    Fantasy          2016          8.1  1161.96\n",
      "998   Movie 999     Action          1996          8.9   941.67\n",
      "999  Movie 1000     Horror          1995          9.4  1390.70\n",
      "\n",
      "[774 rows x 5 columns]\n"
     ]
    }
   ],
   "source": [
    "high_earning_movies = df[df['Revenue'] > 500]\n",
    "print(high_earning_movies)"
   ]
  },
  {
   "cell_type": "code",
   "execution_count": 14,
   "id": "3a9e129e-7550-4543-8902-7fa325084f9b",
   "metadata": {},
   "outputs": [
    {
     "name": "stdout",
     "output_type": "stream",
     "text": [
      "    Movie Name      Genre  Release_Year  IMDb_Rating   Rank\n",
      "628  Movie 629    Mystery          1994         10.0    3.5\n",
      "610  Movie 611    Mystery          2017         10.0    3.5\n",
      "472  Movie 473    Fantasy          1985         10.0    3.5\n",
      "241  Movie 242     Comedy          2006         10.0    3.5\n",
      "564  Movie 565     Action          2020         10.0    3.5\n",
      "..         ...        ...           ...          ...    ...\n",
      "758  Movie 759     Horror          2000          1.0  997.5\n",
      "297  Movie 298     Comedy          2006          1.0  997.5\n",
      "699  Movie 700   Thriller          1984          1.0  997.5\n",
      "577  Movie 578     Action          1999          1.0  997.5\n",
      "80    Movie 81  Adventure          2002          1.0  997.5\n",
      "\n",
      "[1000 rows x 5 columns]\n"
     ]
    }
   ],
   "source": [
    "df['Rank'] = df['IMDb_Rating'].rank(ascending=False)\n",
    "ranked_movies = df.sort_values(by='Rank')\n",
    "print(ranked_movies[['Movie Name', 'Genre', 'Release_Year', 'IMDb_Rating', 'Rank']])"
   ]
  },
  {
   "cell_type": "code",
   "execution_count": 15,
   "id": "206ada24-b2c9-4823-a021-91903da4a040",
   "metadata": {},
   "outputs": [
    {
     "name": "stdout",
     "output_type": "stream",
     "text": [
      "    Movie Name      Genre  Release_Year  IMDb_Rating  Revenue   Rank\n",
      "320  Movie 321    Romance          2024          4.2   477.47  650.5\n",
      "211  Movie 212     Comedy          2024          1.5   837.32  957.0\n",
      "489  Movie 490   Thriller          2024          3.2  1536.79  765.5\n",
      "808  Movie 809     Action          2024          6.0   714.96  432.5\n",
      "917  Movie 918     Horror          2024          1.1  1042.80  991.0\n",
      "..         ...        ...           ...          ...      ...    ...\n",
      "509  Movie 510    Fantasy          1980          6.3  1260.11  392.0\n",
      "798  Movie 799      Drama          1980          3.1  1587.13  774.0\n",
      "496  Movie 497    Fantasy          1980          4.7  1683.97  588.0\n",
      "794  Movie 795  Adventure          1980          4.5  1346.01  609.5\n",
      "170  Movie 171    Mystery          1980          4.6  1684.78  599.0\n",
      "\n",
      "[1000 rows x 6 columns]\n"
     ]
    }
   ],
   "source": [
    "sorted_movies = df.sort_values(by='Release_Year', ascending=False)\n",
    "print(sorted_movies)"
   ]
  },
  {
   "cell_type": "code",
   "execution_count": 16,
   "id": "acb27ec9-6927-4886-ac8b-5465062bea2d",
   "metadata": {},
   "outputs": [
    {
     "name": "stdout",
     "output_type": "stream",
     "text": [
      "   Movie Name      Genre  Release_Year  IMDb_Rating  Revenue   Rank\n",
      "9    Movie 10      Drama          1996          3.2  1352.66  765.5\n",
      "10   Movie 11    Mystery          2003          6.3   596.43  392.0\n",
      "11   Movie 12     Sci-Fi          1988          3.0  1134.01  786.5\n",
      "12   Movie 10      Drama          1996          3.2  1352.66  765.5\n",
      "13   Movie 11    Mystery          2003          6.3   596.43  392.0\n",
      "14   Movie 12     Sci-Fi          1988          3.0  1134.01  786.5\n",
      "15   Movie 16     Comedy          2006          2.3  1322.79  856.0\n",
      "16   Movie 17     Horror          2007          6.2  1114.31  406.5\n",
      "17   Movie 18  Adventure          1998          7.9  1426.73  221.0\n",
      "18   Movie 19     Comedy          1986          6.0  1783.44  432.5\n",
      "19   Movie 20    Fantasy          1982          6.9  1598.08  329.0\n",
      "20   Movie 16     Comedy          2006          2.3  1322.79  856.0\n",
      "21   Movie 17     Horror          2007          6.2  1114.31  406.5\n",
      "22   Movie 18  Adventure          1998          7.9  1426.73  221.0\n",
      "23   Movie 19     Comedy          1986          6.0  1783.44  432.5\n",
      "24   Movie 20    Fantasy          1982          6.9  1598.08  329.0\n"
     ]
    }
   ],
   "source": [
    "duplicate_movies = df[df.duplicated(subset=['Movie Name'], keep=False)]\n",
    "print(duplicate_movies)"
   ]
  },
  {
   "cell_type": "code",
   "execution_count": 17,
   "id": "adeb6a95-d1e2-493b-afa3-c3220d9a7765",
   "metadata": {},
   "outputs": [
    {
     "name": "stdout",
     "output_type": "stream",
     "text": [
      "     Movie Name      Genre  Release_Year  IMDb_Rating  Revenue   Rank\n",
      "0       Movie 1     Sci-Fi          2000          6.0  1680.53  432.5\n",
      "1       Movie 2  Adventure          2000          2.2   987.24  869.0\n",
      "2       Movie 3    Romance          2002          5.2  1122.13  529.5\n",
      "3       Movie 4    Romance          2001          4.5   581.84  609.5\n",
      "4       Movie 5     Action          2012          6.6  1205.51  353.5\n",
      "..          ...        ...           ...          ...      ...    ...\n",
      "995   Movie 996     Sci-Fi          2013          8.7   456.39  131.5\n",
      "996   Movie 997  Adventure          1993          6.2  1255.27  406.5\n",
      "997   Movie 998    Fantasy          2016          8.1  1161.96  199.5\n",
      "998   Movie 999     Action          1996          8.9   941.67  104.5\n",
      "999  Movie 1000     Horror          1995          9.4  1390.70   54.0\n",
      "\n",
      "[992 rows x 6 columns]\n"
     ]
    }
   ],
   "source": [
    "unique_movies = df.drop_duplicates(subset=['Movie Name'], keep='first')\n",
    "print(unique_movies)"
   ]
  },
  {
   "cell_type": "code",
   "execution_count": 18,
   "id": "32fb7434-3902-4da8-be0c-3fa3049b61f6",
   "metadata": {},
   "outputs": [
    {
     "name": "stdout",
     "output_type": "stream",
     "text": [
      "     Movie Name            Genre  Release_Year  IMDb_Rating  Revenue   Rank\n",
      "0       Movie 1  Science Fiction          2000          6.0  1680.53  432.5\n",
      "1       Movie 2        Adventure          2000          2.2   987.24  869.0\n",
      "2       Movie 3          Romance          2002          5.2  1122.13  529.5\n",
      "3       Movie 4          Romance          2001          4.5   581.84  609.5\n",
      "4       Movie 5           Action          2012          6.6  1205.51  353.5\n",
      "..          ...              ...           ...          ...      ...    ...\n",
      "995   Movie 996  Science Fiction          2013          8.7   456.39  131.5\n",
      "996   Movie 997        Adventure          1993          6.2  1255.27  406.5\n",
      "997   Movie 998          Fantasy          2016          8.1  1161.96  199.5\n",
      "998   Movie 999           Action          1996          8.9   941.67  104.5\n",
      "999  Movie 1000           Horror          1995          9.4  1390.70   54.0\n",
      "\n",
      "[1000 rows x 6 columns]\n"
     ]
    }
   ],
   "source": [
    "df['Genre'] = df['Genre'].replace(\"Sci-Fi\", \"Science Fiction\")\n",
    "print(df)"
   ]
  },
  {
   "cell_type": "code",
   "execution_count": 19,
   "id": "5f6e031e-d1e4-4b14-9bb5-e7829d5aa430",
   "metadata": {},
   "outputs": [
    {
     "name": "stdout",
     "output_type": "stream",
     "text": [
      "  Movie Name            Genre  Release_Year  IMDb_Rating  Revenue   Rank\n",
      "0    Movie 1  Science Fiction          2000          6.0  1680.53  432.5\n",
      "1    Movie 2        Adventure          2000          2.2   987.24  869.0\n",
      "2    Movie 3          Romance          2002          5.2  1122.13  529.5\n",
      "3    Movie 4          Romance          2001          4.5   581.84  609.5\n",
      "4    Movie 5           Action          2012          6.6  1205.51  353.5\n",
      "5    Movie 6          Fantasy          1997          2.4   485.22  844.5\n",
      "6    Movie 7          Mystery          2021          5.1  1683.99  545.5\n",
      "7    Movie 8           Comedy          2005          4.0  1062.13  672.5\n",
      "8    Movie 9           Horror          1992          2.8  1592.74  815.0\n",
      "9   Movie 10            Drama          1996          3.2  1352.66  765.5\n"
     ]
    }
   ],
   "source": [
    "df = df.head(10)\n",
    "print(df)"
   ]
  },
  {
   "cell_type": "code",
   "execution_count": 20,
   "id": "f0eaff4a-6c1e-4cef-9f03-2ffc42d5c760",
   "metadata": {},
   "outputs": [
    {
     "name": "stdout",
     "output_type": "stream",
     "text": [
      "  Movie Name    Genre  Release_Year  IMDb_Rating  Revenue   Rank\n",
      "5    Movie 6  Fantasy          1997          2.4   485.22  844.5\n",
      "6    Movie 7  Mystery          2021          5.1  1683.99  545.5\n",
      "7    Movie 8   Comedy          2005          4.0  1062.13  672.5\n",
      "8    Movie 9   Horror          1992          2.8  1592.74  815.0\n",
      "9   Movie 10    Drama          1996          3.2  1352.66  765.5\n"
     ]
    }
   ],
   "source": [
    "last_5_movies = df.tail(5)\n",
    "print(last_5_movies)"
   ]
  },
  {
   "cell_type": "code",
   "execution_count": 21,
   "id": "42b6fd18-727c-4cb0-8f72-dd36776ec812",
   "metadata": {},
   "outputs": [
    {
     "name": "stdout",
     "output_type": "stream",
     "text": [
      "Genre\n",
      "Action             6.60\n",
      "Adventure          2.20\n",
      "Comedy             4.00\n",
      "Drama              3.20\n",
      "Fantasy            2.40\n",
      "Horror             2.80\n",
      "Mystery            5.10\n",
      "Romance            4.85\n",
      "Science Fiction    6.00\n",
      "Name: IMDb_Rating, dtype: float64\n"
     ]
    }
   ],
   "source": [
    "average_imdb_rating_by_genre = df.groupby('Genre')['IMDb_Rating'].mean()\n",
    "print(average_imdb_rating_by_genre)"
   ]
  },
  {
   "cell_type": "code",
   "execution_count": 22,
   "id": "a98a2a90-e5fd-4c37-b871-ca01d0fc5b77",
   "metadata": {},
   "outputs": [
    {
     "name": "stdout",
     "output_type": "stream",
     "text": [
      "Release_Year\n",
      "1992    1\n",
      "1996    1\n",
      "1997    1\n",
      "2000    2\n",
      "2001    1\n",
      "2002    1\n",
      "2005    1\n",
      "2012    1\n",
      "2021    1\n",
      "Name: count, dtype: int64\n"
     ]
    }
   ],
   "source": [
    "movies_per_year = df['Release_Year'].value_counts().sort_index()\n",
    "print(movies_per_year)"
   ]
  },
  {
   "cell_type": "code",
   "execution_count": 23,
   "id": "cc45a268-9a1d-4655-a7c7-6c16e4494b9e",
   "metadata": {},
   "outputs": [
    {
     "name": "stdout",
     "output_type": "stream",
     "text": [
      "Genre\n",
      "Action             1205.51\n",
      "Adventure           987.24\n",
      "Comedy             1062.13\n",
      "Drama              1352.66\n",
      "Fantasy             485.22\n",
      "Horror             1592.74\n",
      "Mystery            1683.99\n",
      "Romance            1703.97\n",
      "Science Fiction    1680.53\n",
      "Name: Revenue, dtype: float64\n"
     ]
    }
   ],
   "source": [
    "total_box_office_per_genre = df.groupby('Genre')['Revenue'].sum()\n",
    "print(total_box_office_per_genre)"
   ]
  },
  {
   "cell_type": "code",
   "execution_count": null,
   "id": "a3df354b-a7cd-4834-a79c-e4fc03dbec75",
   "metadata": {},
   "outputs": [],
   "source": []
  }
 ],
 "metadata": {
  "kernelspec": {
   "display_name": "Python 3 (ipykernel)",
   "language": "python",
   "name": "python3"
  },
  "language_info": {
   "codemirror_mode": {
    "name": "ipython",
    "version": 3
   },
   "file_extension": ".py",
   "mimetype": "text/x-python",
   "name": "python",
   "nbconvert_exporter": "python",
   "pygments_lexer": "ipython3",
   "version": "3.12.7"
  }
 },
 "nbformat": 4,
 "nbformat_minor": 5
}
